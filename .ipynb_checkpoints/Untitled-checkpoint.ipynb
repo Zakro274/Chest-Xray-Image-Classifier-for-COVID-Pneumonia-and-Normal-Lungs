{
 "cells": [
  {
   "cell_type": "code",
   "execution_count": 5,
   "id": "220a475c",
   "metadata": {},
   "outputs": [],
   "source": [
    "# Make the imports\n",
    "import tensorflow as tf\n",
    "from tensorflow.keras.models import Sequential\n",
    "from tensorflow.keras.layers import Conv2D, MaxPooling2D, Flatten, Dense, Dropout\n",
    "from tensorflow.keras.optimizers import Adam\n",
    "from sklearn.model_selection import train_test_split\n",
    "import h5py\n",
    "import numpy as np"
   ]
  },
  {
   "cell_type": "code",
   "execution_count": 6,
   "id": "00e33625",
   "metadata": {},
   "outputs": [],
   "source": [
    "#Obtain the data set from\n",
    "with h5py.File('./COVID19RadiographyDataset/data.h5', 'r') as hf:\n",
    "    images = np.array(hf['train_images'])\n",
    "    labels = np.array(hf['train_labels'])\n",
    "    \n",
    "images = images / 255.0\n",
    "labels = tf.keras.utils.to_categorical(labels, num_classes=3)\n",
    "\n",
    "X_train, X_test, y_train, y_test = train_test_split(images, labels, test_size=0.2, random_state=42)"
   ]
  },
  {
   "cell_type": "code",
   "execution_count": 8,
   "id": "166cdd19",
   "metadata": {},
   "outputs": [
    {
     "name": "stdout",
     "output_type": "stream",
     "text": [
      "Epoch 1/10\n",
      "496/496 [==============================] - 28s 54ms/step - loss: 0.8707 - accuracy: 0.6062 - val_loss: 0.7410 - val_accuracy: 0.7066\n",
      "Epoch 2/10\n",
      "496/496 [==============================] - 29s 58ms/step - loss: 0.6981 - accuracy: 0.7147 - val_loss: 0.6485 - val_accuracy: 0.7369\n",
      "Epoch 3/10\n",
      "496/496 [==============================] - 29s 59ms/step - loss: 0.6254 - accuracy: 0.7514 - val_loss: 0.5951 - val_accuracy: 0.7639\n",
      "Epoch 4/10\n",
      "496/496 [==============================] - 28s 56ms/step - loss: 0.5799 - accuracy: 0.7728 - val_loss: 0.5608 - val_accuracy: 0.7795\n",
      "Epoch 5/10\n",
      "496/496 [==============================] - 29s 58ms/step - loss: 0.5487 - accuracy: 0.7872 - val_loss: 0.5349 - val_accuracy: 0.7891\n",
      "Epoch 6/10\n",
      "496/496 [==============================] - 29s 58ms/step - loss: 0.5215 - accuracy: 0.7986 - val_loss: 0.5040 - val_accuracy: 0.8040\n",
      "Epoch 7/10\n",
      "496/496 [==============================] - 30s 60ms/step - loss: 0.4994 - accuracy: 0.8066 - val_loss: 0.4999 - val_accuracy: 0.8063\n",
      "Epoch 8/10\n",
      "496/496 [==============================] - 29s 58ms/step - loss: 0.4871 - accuracy: 0.8121 - val_loss: 0.4765 - val_accuracy: 0.8199\n",
      "Epoch 9/10\n",
      "496/496 [==============================] - 28s 57ms/step - loss: 0.4707 - accuracy: 0.8213 - val_loss: 0.4721 - val_accuracy: 0.8196\n",
      "Epoch 10/10\n",
      "496/496 [==============================] - 29s 58ms/step - loss: 0.4528 - accuracy: 0.8284 - val_loss: 0.4480 - val_accuracy: 0.8310\n"
     ]
    },
    {
     "data": {
      "text/plain": [
       "<keras.callbacks.History at 0x15bf29ea2f0>"
      ]
     },
     "execution_count": 8,
     "metadata": {},
     "output_type": "execute_result"
    }
   ],
   "source": [
    "model = Sequential([\n",
    "    Conv2D(32, (3, 3), activation='relu', input_shape=(64, 64, 1)),\n",
    "    MaxPooling2D(2, 2),\n",
    "    Conv2D(64, (3, 3), activation='relu'),\n",
    "    MaxPooling2D(2, 2),\n",
    "    Conv2D(128, (3, 3), activation='relu', padding='same'),\n",
    "    MaxPooling2D(2, 2),\n",
    "    Conv2D(256, (3, 3), activation='relu', padding='same'),\n",
    "    MaxPooling2D(2, 2),\n",
    "    Flatten(),\n",
    "    Dense(128, activation='relu'),\n",
    "    Dropout(0.5),\n",
    "    Dense(3, activation='softmax')\n",
    "])\n",
    "\n",
    "model.compile(optimizer=Adam(learning_rate=0.0001), loss='categorical_crossentropy', metrics=['accuracy'])\n",
    "model.fit(X_train, y_train, epochs=10, validation_data=(X_test, y_test))"
   ]
  },
  {
   "cell_type": "code",
   "execution_count": null,
   "id": "3a72d551",
   "metadata": {},
   "outputs": [],
   "source": [
    "# If you have enough time, do random search to look for better hyperparameters\n",
    "\n",
    "from tensorflow.keras.wrappers.scikit_learn import KerasClassifier\n",
    "from sklearn.model_selection import RandomizedSearchCV\n",
    "\n",
    "def create_custom_model(learning_rate=0.001, optimizer='adam', num_filters=(32, 64, 128, 256)):\n",
    "    model = Sequential([\n",
    "        Conv2D(num_filters[0], (3, 3), activation='relu', padding='same', input_shape=(64, 64, 1)),\n",
    "        MaxPooling2D(2, 2),\n",
    "        Conv2D(num_filters[1], (3, 3), activation='relu', padding='same'),\n",
    "        MaxPooling2D(2, 2),\n",
    "        Conv2D(num_filters[2], (3, 3), activation='relu', padding='same'),\n",
    "        MaxPooling2D(2, 2),\n",
    "        Conv2D(num_filters[3], (3, 3), activation='relu', padding='same'),\n",
    "        MaxPooling2D(2, 2),\n",
    "        Flatten(),\n",
    "        Dense(128, activation='relu'),\n",
    "        Dropout(0.5),\n",
    "        Dense(3, activation='softmax')\n",
    "    ])\n",
    "\n",
    "    model.compile(optimizer=optimizer, loss='categorical_crossentropy', metrics=['accuracy'])\n",
    "\n",
    "    return model\n",
    "\n",
    "model = KerasClassifier(build_fn=create_custom_model, verbose=1)\n",
    "\n",
    "param_dist = {\n",
    "    'learning_rate': [0.001, 0.0005, 0.0001],\n",
    "    'optimizer': ['adam', 'rmsprop'],\n",
    "    'num_filters': [\n",
    "        (32, 64, 128, 256),\n",
    "        (64, 128, 256, 512),\n",
    "        (128, 256, 512, 1024)\n",
    "    ],\n",
    "    'batch_size': [16, 32, 64],\n",
    "    'epochs': [10]\n",
    "}\n",
    "\n",
    "random_search = RandomizedSearchCV(estimator=model, param_distributions=param_dist, n_iter=10, cv=3, n_jobs=1, verbose=1)\n",
    "random_search.fit(X_train, y_train)\n",
    "\n",
    "print(\"Best parameters:\", random_search.best_params_)\n",
    "print(\"Best score:\", random_search.best_score_)"
   ]
  },
  {
   "cell_type": "code",
   "execution_count": 10,
   "id": "bfe70deb",
   "metadata": {},
   "outputs": [
    {
     "name": "stdout",
     "output_type": "stream",
     "text": [
      "496/496 [==============================] - 6s 12ms/step - loss: 0.4128 - accuracy: 0.8432\n",
      "Train loss: 0.4128153622150421\n",
      "Train accuracy: 0.8431508541107178\n",
      "124/124 [==============================] - 1s 12ms/step - loss: 0.4480 - accuracy: 0.8310\n",
      "Validation loss: 0.4480181634426117\n",
      "Validation accuracy: 0.8309788107872009\n"
     ]
    }
   ],
   "source": [
    "train_loss, train_accuracy = model.evaluate(X_train, y_train)\n",
    "print(\"Train loss:\", train_loss)\n",
    "print(\"Train accuracy:\", train_accuracy)\n",
    "\n",
    "val_loss, val_accuracy  = model.evaluate(X_test, y_test)\n",
    "print(\"Validation loss:\", val_loss)\n",
    "print(\"Validation accuracy:\", val_accuracy)"
   ]
  },
  {
   "cell_type": "code",
   "execution_count": 11,
   "id": "190f5240",
   "metadata": {},
   "outputs": [],
   "source": [
    "# Save the model to a file called \"my_model.h5\"\n",
    "model.save(\"my_model.h5\")"
   ]
  }
 ],
 "metadata": {
  "kernelspec": {
   "display_name": "Python 3 (ipykernel)",
   "language": "python",
   "name": "python3"
  },
  "language_info": {
   "codemirror_mode": {
    "name": "ipython",
    "version": 3
   },
   "file_extension": ".py",
   "mimetype": "text/x-python",
   "name": "python",
   "nbconvert_exporter": "python",
   "pygments_lexer": "ipython3",
   "version": "3.10.8"
  }
 },
 "nbformat": 4,
 "nbformat_minor": 5
}
